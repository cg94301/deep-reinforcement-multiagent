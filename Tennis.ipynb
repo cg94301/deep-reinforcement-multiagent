{
 "cells": [
  {
   "cell_type": "code",
   "execution_count": 1,
   "metadata": {},
   "outputs": [
    {
     "name": "stdout",
     "output_type": "stream",
     "text": [
      "['/Users/chrisg/miniconda3/envs/drlnd/lib/python36.zip', '/Users/chrisg/miniconda3/envs/drlnd/lib/python3.6', '/Users/chrisg/miniconda3/envs/drlnd/lib/python3.6/lib-dynload', '', '/Users/chrisg/miniconda3/envs/drlnd/lib/python3.6/site-packages', '/Users/chrisg/miniconda3/envs/drlnd/lib/python3.6/site-packages/IPython/extensions', '/Users/chrisg/.ipython', '/Users/chrisg/dev/deep-reinforcement-multiagent']\n"
     ]
    }
   ],
   "source": [
    "import sys, os\n",
    "sys.path.append(os.getcwd())\n",
    "print(sys.path)"
   ]
  },
  {
   "cell_type": "code",
   "execution_count": 2,
   "metadata": {},
   "outputs": [],
   "source": [
    "from unityagents import UnityEnvironment\n",
    "import numpy as np"
   ]
  },
  {
   "cell_type": "code",
   "execution_count": 3,
   "metadata": {},
   "outputs": [
    {
     "name": "stderr",
     "output_type": "stream",
     "text": [
      "INFO:unityagents:\n",
      "'Academy' started successfully!\n",
      "Unity Academy name: Academy\n",
      "        Number of Brains: 1\n",
      "        Number of External Brains : 1\n",
      "        Lesson number : 0\n",
      "        Reset Parameters :\n",
      "\t\t\n",
      "Unity brain name: TennisBrain\n",
      "        Number of Visual Observations (per agent): 0\n",
      "        Vector Observation space type: continuous\n",
      "        Vector Observation space size (per agent): 8\n",
      "        Number of stacked Vector Observation: 3\n",
      "        Vector Action space type: continuous\n",
      "        Vector Action space size (per agent): 2\n",
      "        Vector Action descriptions: , \n"
     ]
    }
   ],
   "source": [
    "env = UnityEnvironment(file_name=\"Tennis.app\", no_graphics=True)"
   ]
  },
  {
   "cell_type": "code",
   "execution_count": 4,
   "metadata": {},
   "outputs": [
    {
     "data": {
      "text/plain": [
       "'TennisBrain'"
      ]
     },
     "execution_count": 4,
     "metadata": {},
     "output_type": "execute_result"
    }
   ],
   "source": [
    "# get the default brain\n",
    "brain_name = env.brain_names[0]\n",
    "brain = env.brains[brain_name]\n",
    "brain_name"
   ]
  },
  {
   "cell_type": "code",
   "execution_count": 5,
   "metadata": {},
   "outputs": [
    {
     "name": "stdout",
     "output_type": "stream",
     "text": [
      "Number of agents: 2\n",
      "Size of each action: 2\n",
      "There are 2 agents. Each observes a state with length: 24\n",
      "The state for the first agent looks like: [ 0.          0.          0.          0.          0.          0.\n",
      "  0.          0.          0.          0.          0.          0.\n",
      "  0.          0.          0.          0.         -6.65278625 -1.5\n",
      " -0.          0.          6.83172083  6.         -0.          0.        ]\n"
     ]
    }
   ],
   "source": [
    "# reset the environment\n",
    "env_info = env.reset(train_mode=True)[brain_name]\n",
    "\n",
    "# number of agents \n",
    "num_agents = len(env_info.agents)\n",
    "print('Number of agents:', num_agents)\n",
    "\n",
    "# size of each action\n",
    "action_size = brain.vector_action_space_size\n",
    "print('Size of each action:', action_size)\n",
    "\n",
    "# examine the state space \n",
    "states = env_info.vector_observations\n",
    "state_size = states.shape[1]\n",
    "print('There are {} agents. Each observes a state with length: {}'.format(states.shape[0], state_size))\n",
    "print('The state for the first agent looks like:', states[0])"
   ]
  },
  {
   "cell_type": "code",
   "execution_count": 6,
   "metadata": {},
   "outputs": [
    {
     "name": "stdout",
     "output_type": "stream",
     "text": [
      "actions [[1.3360123  0.2805893 ]\n",
      " [0.05604431 0.34346752]]\n",
      "next_states [[ 0.          0.          0.          0.          0.          0.\n",
      "   0.          0.         -7.38993645 -1.5        -0.          0.\n",
      "   6.83172083  5.99607611 -0.          0.         -4.38993692 -1.55886006\n",
      "  30.         -0.98100001  6.83172083  5.91759634 30.         -0.98100001]\n",
      " [ 0.          0.          0.          0.          0.          0.\n",
      "   0.          0.         -6.70024681 -1.5         0.          0.\n",
      "  -6.83172083  5.99607611  0.          0.         -6.53211403 -1.55886006\n",
      "   1.68132925 -0.98100001 -6.83172083  5.91759634  1.68132925 -0.98100001]]\n",
      "rewards [0.0, 0.0]\n",
      "dones [False, False]\n",
      "scores [0. 0.]\n",
      "Score (max over agents) from episode 1: 0.0\n"
     ]
    }
   ],
   "source": [
    "### Random Actions\n",
    "\n",
    "for i in range(1, 2):                                      # play game for 5 episodes\n",
    "    env_info = env.reset(train_mode=False)[brain_name]     # reset the environment    \n",
    "    states = env_info.vector_observations                  # get the current state (for each agent)\n",
    "    scores = np.zeros(num_agents)                          # initialize the score (for each agent)\n",
    "    while True:\n",
    "        actions = np.random.randn(num_agents, action_size) # select an action (for each agent)\n",
    "        print('actions', actions)\n",
    "        actions = np.clip(actions, -1, 1)                  # all actions between -1 and 1\n",
    "        #print(actions)\n",
    "        env_info = env.step(actions)[brain_name]           # send all actions to tne environment\n",
    "        next_states = env_info.vector_observations         # get next state (for each agent)\n",
    "        print('next_states', next_states)\n",
    "        rewards = env_info.rewards                         # get reward (for each agent)\n",
    "        print('rewards', rewards)\n",
    "        dones = env_info.local_done                        # see if episode finished\n",
    "        print('dones', dones)\n",
    "        scores += env_info.rewards                         # update the score (for each agent)\n",
    "        print('scores', scores)\n",
    "        states = next_states                               # roll over states to next time step\n",
    "        #if np.any(dones):                                  # exit loop if episode finished\n",
    "        if True:\n",
    "            break\n",
    "    print('Score (max over agents) from episode {}: {}'.format(i, np.max(scores)))\n"
   ]
  },
  {
   "cell_type": "code",
   "execution_count": 10,
   "metadata": {},
   "outputs": [
    {
     "name": "stdout",
     "output_type": "stream",
     "text": [
      "Actor(\n",
      "  (fc1): Linear(in_features=24, out_features=400, bias=True)\n",
      "  (bn1): BatchNorm1d(400, eps=1e-05, momentum=0.1, affine=True, track_running_stats=True)\n",
      "  (fc2): Linear(in_features=400, out_features=300, bias=True)\n",
      "  (fc3): Linear(in_features=300, out_features=2, bias=True)\n",
      ")\n",
      "Critic(\n",
      "  (fcs1): Linear(in_features=48, out_features=400, bias=True)\n",
      "  (bn1): BatchNorm1d(400, eps=1e-05, momentum=0.1, affine=True, track_running_stats=True)\n",
      "  (fc2): Linear(in_features=404, out_features=300, bias=True)\n",
      "  (fc3): Linear(in_features=300, out_features=1, bias=True)\n",
      ")\n"
     ]
    }
   ],
   "source": [
    "from ddpg_agent import Agent\n",
    "\n",
    "agent = Agent(state_size, action_size, 11, 99)\n",
    "\n",
    "print(agent.actor_local_0)\n",
    "print(agent.critic_local_0)"
   ]
  },
  {
   "cell_type": "code",
   "execution_count": null,
   "metadata": {},
   "outputs": [],
   "source": [
    "from collections import deque\n",
    "import matplotlib.pyplot as plt\n",
    "import torch\n",
    "from timeit import default_timer as timer\n",
    "\n",
    "# DEFAULTS:\n",
    "# n_episodes = 10000\n",
    "# max_t = 1000\n",
    "# print_every = 10\n",
    "# target_window = 100\n",
    "# target_score = 0.5\n",
    "def run(n_episodes=10000, max_t=1000, print_every=10, target_window=100, target_score=0.5):\n",
    "    scores_deque = deque(maxlen=target_window)\n",
    "    scores_total = []\n",
    "    train_every = 20\n",
    "    train_iterations = 15\n",
    "    time_deque = deque(maxlen=print_every)\n",
    "    \n",
    "    for i_episode in range(1, n_episodes+1):\n",
    "        \n",
    "        env_info = env.reset(train_mode=True)[brain_name]\n",
    "        states = env_info.vector_observations\n",
    "        scores = np.zeros(num_agents)\n",
    "        agent.reset()\n",
    "         \n",
    "        start = timer()\n",
    "        t_done = 0\n",
    "        for t in range(max_t):\n",
    "            \n",
    "            # actions between -1,1 calls for tanh\n",
    "            #print(states)\n",
    "            actions = agent.act(states, t).cpu().detach().numpy()\n",
    "            #print(actions)\n",
    "            env_info = env.step(actions)[brain_name]\n",
    "            next_states = env_info.vector_observations\n",
    "            #print(next_states)\n",
    "            rewards = env_info.rewards\n",
    "            #print(rewards)\n",
    "            dones = env_info.local_done\n",
    "            #print(dones)\n",
    "            \n",
    "            train = not bool(t % train_every)\n",
    "            \n",
    "            agent.step(states, actions, rewards, next_states, dones, train, train_iterations)  \n",
    "            \n",
    "            states = next_states\n",
    "            scores += rewards\n",
    "            #print('r',rewards)\n",
    "            #print('s',scores)\n",
    "            if np.any(dones):\n",
    "                t_done = t\n",
    "                #print('done at', t_done)\n",
    "                break\n",
    "                \n",
    "        end = timer()\n",
    "        delta = end - start\n",
    "        time_deque.append(delta)\n",
    "        scores_max = np.max(scores)\n",
    "        scores_deque.append(scores_max)\n",
    "        scores_total.append(scores_max)\n",
    "        scores_deque_mean = np.mean(scores_deque)\n",
    "        print('\\rEpisode {} t{}\\tAverage Score: {:.4f}\\t({:.0f} sec)'.format(i_episode, t_done, scores_deque_mean, delta), end=\"\")\n",
    "      \n",
    "        #print(np.max(scores_deque))\n",
    "        if i_episode % print_every == 0:\n",
    "            #print(np.max(scores_deque))\n",
    "            scores_deque_max = np.max(scores_deque)\n",
    "            torch.save(agent.actor_local_0.state_dict(), 'checkpoint_actor_local_0.pth')\n",
    "            torch.save(agent.actor_local_1.state_dict(), 'checkpoint_actor_local_1.pth')               \n",
    "            print('\\rEpisode {}\\tAverage Score: {:.4f}\\tMax: {:.4f}\\t({:.0f} sec avrg)'\\\n",
    "                  .format(i_episode, scores_deque_mean, scores_deque_max, np.mean(time_deque)))\n",
    "        sma_bool = [s >= target_score for s in scores_deque]\n",
    "        #print(scores_deque)\n",
    "        #if np.all(sma_bool) and len(sma_bool) >= target_window: \n",
    "        if scores_deque_mean >= target_score and len(scores_deque) >= target_window:\n",
    "            print(\"\\n*** Environment Solved ***\")\n",
    "            torch.save(agent.actor_local_0.state_dict(), 'env_actor_local_0.pth')\n",
    "            torch.save(agent.actor_local_1.state_dict(), 'env_actor_local_1.pth')          \n",
    "            break\n",
    "                \n",
    "            \n",
    "    return scores_total, scores_deque\n",
    "\n",
    "scores, sma = run()\n",
    "print([ int(s*1000)/1000.0 for s in sma])\n",
    "#print(scores)\n",
    "fig = plt.figure()\n",
    "ax = fig.add_subplot(111)\n",
    "plt.plot(np.arange(1, len(scores)+1), scores)\n",
    "plt.ylabel('Score')\n",
    "plt.xlabel('Episode #')\n",
    "plt.savefig('scores.png')            "
   ]
  },
  {
   "cell_type": "code",
   "execution_count": null,
   "metadata": {},
   "outputs": [],
   "source": [
    "env.close()"
   ]
  },
  {
   "cell_type": "code",
   "execution_count": null,
   "metadata": {},
   "outputs": [],
   "source": []
  }
 ],
 "metadata": {
  "kernelspec": {
   "display_name": "drlnd",
   "language": "python",
   "name": "drlnd"
  },
  "language_info": {
   "codemirror_mode": {
    "name": "ipython",
    "version": 3
   },
   "file_extension": ".py",
   "mimetype": "text/x-python",
   "name": "python",
   "nbconvert_exporter": "python",
   "pygments_lexer": "ipython3",
   "version": "3.6.13"
  }
 },
 "nbformat": 4,
 "nbformat_minor": 4
}
